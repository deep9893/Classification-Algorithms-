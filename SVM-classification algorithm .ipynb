{
 "cells": [
  {
   "cell_type": "code",
   "execution_count": 1,
   "id": "64fd7952",
   "metadata": {},
   "outputs": [],
   "source": [
    "import numpy as np\n",
    "import pandas as pd\n",
    "import matplotlib.pyplot as plt\n",
    "import seaborn as sn\n",
    "import warnings\n",
    "warnings.simplefilter('ignore')"
   ]
  },
  {
   "cell_type": "code",
   "execution_count": 2,
   "id": "6747e6c4",
   "metadata": {},
   "outputs": [],
   "source": [
    "df=pd.read_csv('D:\\\\self study\\\\Naresh IT\\\\Data Science\\\\12.Classification\\\\mushrooms.csv')"
   ]
  },
  {
   "cell_type": "code",
   "execution_count": 3,
   "id": "da91b9f8",
   "metadata": {},
   "outputs": [],
   "source": [
    "X=pd.get_dummies(df.drop('class',axis=1),drop_first=True)\n",
    "Y=df['class']\n"
   ]
  },
  {
   "cell_type": "code",
   "execution_count": 4,
   "id": "b09bd06e",
   "metadata": {},
   "outputs": [],
   "source": [
    "from sklearn.model_selection import train_test_split\n",
    "x_train,x_test,y_train,y_test=train_test_split(X,Y,random_state=101,test_size=0.3)"
   ]
  },
  {
   "cell_type": "code",
   "execution_count": 5,
   "id": "9a3d231f",
   "metadata": {},
   "outputs": [
    {
     "name": "stdout",
     "output_type": "stream",
     "text": [
      "1.0\n",
      "1.0\n",
      "**********\n",
      "cross_val_score = [0.84246154 1.         0.99569231 1.         0.55849754]\n",
      "cross_val_score mean = 0.8793302766199318\n",
      "**********\n"
     ]
    },
    {
     "name": "stderr",
     "output_type": "stream",
     "text": [
      "C:\\ProgramData\\Anaconda3\\lib\\site-packages\\sklearn\\utils\\deprecation.py:87: FutureWarning: Function plot_confusion_matrix is deprecated; Function `plot_confusion_matrix` is deprecated in 1.0 and will be removed in 1.2. Use one of the class methods: ConfusionMatrixDisplay.from_predictions or ConfusionMatrixDisplay.from_estimator.\n",
      "  warnings.warn(msg, category=FutureWarning)\n"
     ]
    },
    {
     "data": {
      "image/png": "[encoded data removed]",
      "text/plain": [
       "<Figure size 432x288 with 2 Axes>"
      ]
     },
     "metadata": {
      "needs_background": "light"
     },
     "output_type": "display_data"
    },
    {
     "name": "stdout",
     "output_type": "stream",
     "text": [
      "**************************************************\n",
      "              precision    recall  f1-score   support\n",
      "\n",
      "           e       1.00      1.00      1.00      1274\n",
      "           p       1.00      1.00      1.00      1164\n",
      "\n",
      "    accuracy                           1.00      2438\n",
      "   macro avg       1.00      1.00      1.00      2438\n",
      "weighted avg       1.00      1.00      1.00      2438\n",
      "\n"
     ]
    }
   ],
   "source": [
    "from sklearn.svm  import SVC\n",
    "from sklearn.metrics import classification_report,plot_confusion_matrix,accuracy_score\n",
    "from sklearn.model_selection import cross_val_score\n",
    "\n",
    "model1=SVC()\n",
    "model1.fit(x_train,y_train)\n",
    "\n",
    "#prediction\n",
    "pred_train=model1.predict(x_train)\n",
    "pred_test=model1.predict(x_test)\n",
    "print(accuracy_score(y_train,pred_train))\n",
    "print(accuracy_score(y_test,pred_test))\n",
    "\n",
    "\n",
    "print('*'*10)\n",
    "#cross_val_score\n",
    "score= cross_val_score(model1,X,Y,cv=5)\n",
    "print('cross_val_score =',score)\n",
    "print('cross_val_score mean =',score.mean())\n",
    "\n",
    "\n",
    "print('*'*10)\n",
    "#confusion matrix\n",
    "plot_confusion_matrix(model1,x_test,y_test)\n",
    "plt.show()\n",
    "\n",
    "print('*'*50)\n",
    "#cLAssification Report\n",
    "print(classification_report(y_test,pred_test))"
   ]
  },
  {
   "cell_type": "code",
   "execution_count": 6,
   "id": "0e978494",
   "metadata": {},
   "outputs": [
    {
     "name": "stdout",
     "output_type": "stream",
     "text": [
      "GridSearchCV(cv=5, estimator=SVC(),\n",
      "             param_grid={'C': [0.1, 0.2, 1.0, 2.0, 3.0, 4.0],\n",
      "                         'kernel': ['rbf', 'sigmoid', 'poly', 'linear']},\n",
      "             scoring='accuracy')\n",
      "{'C': 1.0, 'kernel': 'poly'}\n"
     ]
    }
   ],
   "source": [
    "from sklearn.model_selection import GridSearchCV\n",
    "\n",
    "estimator=SVC()\n",
    "param_grid={'C':[0.1,0.2,1.0,2.0,3.0,4.0],'kernel':['rbf','sigmoid','poly','linear']}\n",
    "full_cv_classifier=GridSearchCV(estimator,param_grid,cv=5,scoring='accuracy')\n",
    "print(full_cv_classifier.fit(x_train,y_train))\n",
    "print(full_cv_classifier.best_params_)"
   ]
  },
  {
   "cell_type": "code",
   "execution_count": 7,
   "id": "0cfec7ea",
   "metadata": {},
   "outputs": [
    {
     "data": {
      "text/plain": [
       "2173    e\n",
       "1483    e\n",
       "7994    e\n",
       "3174    p\n",
       "387     e\n",
       "       ..\n",
       "5695    e\n",
       "8006    p\n",
       "1361    p\n",
       "1547    e\n",
       "4959    p\n",
       "Name: class, Length: 5686, dtype: object"
      ]
     },
     "execution_count": 7,
     "metadata": {},
     "output_type": "execute_result"
    }
   ],
   "source": [
    "y_train"
   ]
  },
  {
   "cell_type": "code",
   "execution_count": 8,
   "id": "38422672",
   "metadata": {
    "scrolled": false
   },
   "outputs": [
    {
     "name": "stdout",
     "output_type": "stream",
     "text": [
      "1.0\n",
      "1.0\n",
      "**********\n",
      "cross_val_score = [0.84246154 1.         0.99569231 1.         0.58805419]\n",
      "cross_val_score mean = 0.8852416066691928\n",
      "**********\n"
     ]
    },
    {
     "name": "stderr",
     "output_type": "stream",
     "text": [
      "C:\\ProgramData\\Anaconda3\\lib\\site-packages\\sklearn\\utils\\deprecation.py:87: FutureWarning: Function plot_confusion_matrix is deprecated; Function `plot_confusion_matrix` is deprecated in 1.0 and will be removed in 1.2. Use one of the class methods: ConfusionMatrixDisplay.from_predictions or ConfusionMatrixDisplay.from_estimator.\n",
      "  warnings.warn(msg, category=FutureWarning)\n"
     ]
    },
    {
     "data": {
      "image/png": "[encoded data removed]",
      "text/plain": [
       "<Figure size 432x288 with 2 Axes>"
      ]
     },
     "metadata": {
      "needs_background": "light"
     },
     "output_type": "display_data"
    },
    {
     "name": "stdout",
     "output_type": "stream",
     "text": [
      "**************************************************\n",
      "              precision    recall  f1-score   support\n",
      "\n",
      "           e       1.00      1.00      1.00      1274\n",
      "           p       1.00      1.00      1.00      1164\n",
      "\n",
      "    accuracy                           1.00      2438\n",
      "   macro avg       1.00      1.00      1.00      2438\n",
      "weighted avg       1.00      1.00      1.00      2438\n",
      "\n"
     ]
    }
   ],
   "source": [
    "from sklearn.svm  import SVC\n",
    "from sklearn.metrics import classification_report,plot_confusion_matrix,accuracy_score\n",
    "from sklearn.model_selection import cross_val_score\n",
    "\n",
    "model1=SVC(C= 1.0, kernel='poly')\n",
    "model1.fit(x_train,y_train)\n",
    "\n",
    "#prediction\n",
    "pred_train=model1.predict(x_train)\n",
    "pred_test=model1.predict(x_test)\n",
    "print(accuracy_score(y_train,pred_train))\n",
    "print(accuracy_score(y_test,pred_test))\n",
    "\n",
    "\n",
    "print('*'*10)\n",
    "#cross_val_score\n",
    "score= cross_val_score(model1,X,Y,cv=5)\n",
    "print('cross_val_score =',score)\n",
    "print('cross_val_score mean =',score.mean())\n",
    "\n",
    "\n",
    "print('*'*10)\n",
    "#confusion matrix\n",
    "plot_confusion_matrix(model1,x_test,y_test)\n",
    "plt.show()\n",
    "\n",
    "print('*'*50)\n",
    "#cLAssification Report\n",
    "print(classification_report(y_test,pred_test))"
   ]
  },
  {
   "cell_type": "code",
   "execution_count": null,
   "id": "501a1394",
   "metadata": {},
   "outputs": [],
   "source": []
  }
 ],
 "metadata": {
  "kernelspec": {
   "display_name": "Python 3 (ipykernel)",
   "language": "python",
   "name": "python3"
  },
  "language_info": {
   "codemirror_mode": {
    "name": "ipython",
    "version": 3
   },
   "file_extension": ".py",
   "mimetype": "text/x-python",
   "name": "python",
   "nbconvert_exporter": "python",
   "pygments_lexer": "ipython3",
   "version": "3.9.7"
  }
 },
 "nbformat": 4,
 "nbformat_minor": 5
}
